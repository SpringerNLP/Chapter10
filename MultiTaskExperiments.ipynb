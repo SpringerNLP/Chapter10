{
 "cells": [
  {
   "cell_type": "code",
   "execution_count": 1,
   "metadata": {
    "scrolled": true
   },
   "outputs": [
    {
     "name": "stdout",
     "output_type": "stream",
     "text": [
      "Baseline\n"
     ]
    },
    {
     "data": {
      "text/html": [
       "<table>\n",
       "<tbody>\n",
       "<tr><td>Model                                           </td><td>POS Accuracy</td><td>Chunking Accuracy</td></tr>\n",
       "<tr><td>POS Only Model                                  </td><td>86.33%      </td><td>N/A              </td></tr>\n",
       "<tr><td>Chunking Only Model                             </td><td>N/A         </td><td>84.69%           </td></tr>\n",
       "<tr><td>MTL Joint Model                                 </td><td>83.91%      </td><td>85.23%           </td></tr>\n",
       "<tr><td>MTL Joint Model (Different RNN Layers for tasks)</td><td>86.88%      </td><td>85.78%           </td></tr>\n",
       "</tbody>\n",
       "</table>"
      ],
      "text/plain": [
       "<IPython.core.display.HTML object>"
      ]
     },
     "metadata": {},
     "output_type": "display_data"
    }
   ],
   "source": [
    "from IPython.display import HTML, display\n",
    "import tabulate\n",
    "table = [[\"Model\",\"POS Accuracy\",\"Chunking Accuracy\"],\n",
    "         [\"POS Only Model\",\"86.33%\",\"N/A\"],\n",
    "         [\"Chunking Only Model\",\"N/A\",\"84.69%\"],\n",
    "         [\"MTL Joint Model\",\"83.91%\",\"85.23%\"],\n",
    "         [\"MTL Joint Model (Different RNN Layers for tasks)\",\"86.88%\",\"85.78%\"],\n",
    "        ]\n",
    "print('Baseline')\n",
    "display(HTML(tabulate.tabulate(table, tablefmt='html')))"
   ]
  },
  {
   "cell_type": "code",
   "execution_count": 2,
   "metadata": {},
   "outputs": [
    {
     "name": "stdout",
     "output_type": "stream",
     "text": [
      "Baseline Embedding Dim 300\n"
     ]
    },
    {
     "data": {
      "text/html": [
       "<table>\n",
       "<tbody>\n",
       "<tr><td>Model                                           </td><td>POS Accuracy</td><td>Chunking Accuracy</td></tr>\n",
       "<tr><td>POS Only Model                                  </td><td>86.72%      </td><td>N/A              </td></tr>\n",
       "<tr><td>Chunking Only Model                             </td><td>N/A         </td><td>84.45%           </td></tr>\n",
       "<tr><td>MTL Joint Model                                 </td><td>83.83%      </td><td>85.31%           </td></tr>\n",
       "<tr><td>MTL Joint Model (Different RNN Layers for tasks)</td><td>86.17%      </td><td>85.94%           </td></tr>\n",
       "</tbody>\n",
       "</table>"
      ],
      "text/plain": [
       "<IPython.core.display.HTML object>"
      ]
     },
     "metadata": {},
     "output_type": "display_data"
    }
   ],
   "source": [
    "table = [[\"Model\",\"POS Accuracy\",\"Chunking Accuracy\"],\n",
    "         [\"POS Only Model\",\"86.72%\",\"N/A\"],\n",
    "         [\"Chunking Only Model\",\"N/A\",\"84.45%\"],\n",
    "         [\"MTL Joint Model\",\"83.83%\",\"85.31%\"],\n",
    "         [\"MTL Joint Model (Different RNN Layers for tasks)\",\"86.17%\",\"85.94%\"],\n",
    "        ]\n",
    "print('Baseline Embedding Dim 300')\n",
    "display(HTML(tabulate.tabulate(table, tablefmt='html')))"
   ]
  },
  {
   "cell_type": "code",
   "execution_count": 3,
   "metadata": {},
   "outputs": [
    {
     "name": "stdout",
     "output_type": "stream",
     "text": [
      "NER instead of chunking\n"
     ]
    },
    {
     "data": {
      "text/html": [
       "<table>\n",
       "<tbody>\n",
       "<tr><td>Model                                           </td><td>POS Accuracy</td><td>NER Accuracy</td></tr>\n",
       "<tr><td>POS Only Model                                  </td><td>86.33%      </td><td>N/A         </td></tr>\n",
       "<tr><td>NER Only Model                                  </td><td>N/A         </td><td>84.92%      </td></tr>\n",
       "<tr><td>MTL Joint Model                                 </td><td>85.62%      </td><td>88.28%      </td></tr>\n",
       "<tr><td>MTL Joint Model (Different RNN Layers for tasks)</td><td>86.72%      </td><td>89.45%      </td></tr>\n",
       "</tbody>\n",
       "</table>"
      ],
      "text/plain": [
       "<IPython.core.display.HTML object>"
      ]
     },
     "metadata": {},
     "output_type": "display_data"
    }
   ],
   "source": [
    "table = [[\"Model\",\"POS Accuracy\",\"NER Accuracy\"],\n",
    "         [\"POS Only Model\",\"86.33%\",\"N/A\"],\n",
    "         [\"NER Only Model\",\"N/A\",\"84.92%\"],\n",
    "         [\"MTL Joint Model\",\"85.62%\",\"88.28%\"],\n",
    "         [\"MTL Joint Model (Different RNN Layers for tasks)\",\"86.72%\",\"89.45%\"],\n",
    "        ]\n",
    "print('NER instead of chunking')\n",
    "display(HTML(tabulate.tabulate(table, tablefmt='html')))"
   ]
  },
  {
   "cell_type": "code",
   "execution_count": 4,
   "metadata": {},
   "outputs": [
    {
     "name": "stdout",
     "output_type": "stream",
     "text": [
      "NER instead of chunking + Embedding dim 300\n"
     ]
    },
    {
     "data": {
      "text/html": [
       "<table>\n",
       "<tbody>\n",
       "<tr><td>Model                                           </td><td>POS Accuracy</td><td>NER Accuracy</td></tr>\n",
       "<tr><td>POS Only Model                                  </td><td>86.72%      </td><td>N/A         </td></tr>\n",
       "<tr><td>NER Only Model                                  </td><td>N/A         </td><td>85.78%      </td></tr>\n",
       "<tr><td>MTL Joint Model                                 </td><td>86.33%      </td><td>88.67%      </td></tr>\n",
       "<tr><td>MTL Joint Model (Different RNN Layers for tasks)</td><td>86.64%      </td><td>88.98%      </td></tr>\n",
       "</tbody>\n",
       "</table>"
      ],
      "text/plain": [
       "<IPython.core.display.HTML object>"
      ]
     },
     "metadata": {},
     "output_type": "display_data"
    }
   ],
   "source": [
    "table = [[\"Model\",\"POS Accuracy\",\"NER Accuracy\"],\n",
    "         [\"POS Only Model\",\"86.72%\",\"N/A\"],\n",
    "         [\"NER Only Model\",\"N/A\",\"85.78%\"],\n",
    "         [\"MTL Joint Model\",\"86.33%\",\"88.67%\"],\n",
    "         [\"MTL Joint Model (Different RNN Layers for tasks)\",\"86.64%\",\"88.98%\"],\n",
    "        ]\n",
    "print('NER instead of chunking + Embedding dim 300')\n",
    "display(HTML(tabulate.tabulate(table, tablefmt='html')))"
   ]
  },
  {
   "cell_type": "code",
   "execution_count": 5,
   "metadata": {},
   "outputs": [
    {
     "name": "stdout",
     "output_type": "stream",
     "text": [
      "POS/NER/Chunking\n"
     ]
    },
    {
     "data": {
      "text/html": [
       "<table>\n",
       "<tbody>\n",
       "<tr><td>Model                                           </td><td>POS Accuracy</td><td>Chunk Accuracy</td><td>NER Accuracy</td></tr>\n",
       "<tr><td>POS Only Model                                  </td><td>87.42%      </td><td>N/A           </td><td>N/A         </td></tr>\n",
       "<tr><td>Chunk Only Model                                </td><td>N/A         </td><td>85.16%        </td><td>N/A         </td></tr>\n",
       "<tr><td>NER Only Model                                  </td><td>N/A         </td><td>N/A           </td><td>90.08%      </td></tr>\n",
       "<tr><td>MTL Joint Model                                 </td><td>85.94%      </td><td>85.00%        </td><td>88.05%      </td></tr>\n",
       "<tr><td>MTL Joint Model (Different RNN Layers for tasks)</td><td>87.11%      </td><td>86.72%        </td><td>88.83%      </td></tr>\n",
       "</tbody>\n",
       "</table>"
      ],
      "text/plain": [
       "<IPython.core.display.HTML object>"
      ]
     },
     "metadata": {},
     "output_type": "display_data"
    }
   ],
   "source": [
    "table = [[\"Model\",\"POS Accuracy\",\"Chunk Accuracy\", \"NER Accuracy\"],\n",
    "         [\"POS Only Model\",\"87.42%\",\"N/A\", \"N/A\"],\n",
    "         [\"Chunk Only Model\",\"N/A\",\"85.16%\", \"N/A\"],\n",
    "         [\"NER Only Model\",\"N/A\",\"N/A\", \"90.08%\"],\n",
    "         [\"MTL Joint Model\",\"85.94%\",\"85.00%\",\"88.05%\"],\n",
    "         [\"MTL Joint Model (Different RNN Layers for tasks)\",\"87.11%\",\"86.72%\", \"88.83%\"],\n",
    "        ]\n",
    "print('POS/NER/Chunking')\n",
    "display(HTML(tabulate.tabulate(table, tablefmt='html')))"
   ]
  },
  {
   "cell_type": "code",
   "execution_count": 6,
   "metadata": {},
   "outputs": [
    {
     "name": "stdout",
     "output_type": "stream",
     "text": [
      "POS/NER/Chunking + Embedding Dim 300\n"
     ]
    },
    {
     "data": {
      "text/html": [
       "<table>\n",
       "<tbody>\n",
       "<tr><td>Model                                           </td><td>POS Accuracy</td><td>Chunk Accuracy</td><td>NER Accuracy</td></tr>\n",
       "<tr><td>POS Only Model                                  </td><td>85.55%      </td><td>N/A           </td><td>N/A         </td></tr>\n",
       "<tr><td>Chunk Only Model                                </td><td>N/A         </td><td>84.53%        </td><td>N/A         </td></tr>\n",
       "<tr><td>NER Only Model                                  </td><td>N/A         </td><td>N/A           </td><td>89.69%      </td></tr>\n",
       "<tr><td>MTL Joint Model                                 </td><td>86.25%      </td><td>85.62%        </td><td>86.41%      </td></tr>\n",
       "<tr><td>MTL Joint Model (Different RNN Layers for tasks)</td><td>87.73%      </td><td>87.34%        </td><td>88.98%      </td></tr>\n",
       "</tbody>\n",
       "</table>"
      ],
      "text/plain": [
       "<IPython.core.display.HTML object>"
      ]
     },
     "metadata": {},
     "output_type": "display_data"
    }
   ],
   "source": [
    "table = [[\"Model\",\"POS Accuracy\",\"Chunk Accuracy\", \"NER Accuracy\"],\n",
    "         [\"POS Only Model\",\"85.55%\",\"N/A\", \"N/A\"],\n",
    "         [\"Chunk Only Model\",\"N/A\",\"84.53%\", \"N/A\"],\n",
    "         [\"NER Only Model\",\"N/A\",\"N/A\", \"89.69%\"],\n",
    "         [\"MTL Joint Model\",\"86.25%\",\"85.62%\",\"86.41%\"],\n",
    "         [\"MTL Joint Model (Different RNN Layers for tasks)\",\"87.73%\",\"87.34%\", \"88.98%\"],\n",
    "        ]\n",
    "print('POS/NER/Chunking + Embedding Dim 300')\n",
    "display(HTML(tabulate.tabulate(table, tablefmt='html')))"
   ]
  },
  {
   "cell_type": "code",
   "execution_count": 7,
   "metadata": {},
   "outputs": [
    {
     "name": "stdout",
     "output_type": "stream",
     "text": [
      "Bidirectional LSTMs\n"
     ]
    },
    {
     "data": {
      "text/html": [
       "<table>\n",
       "<tbody>\n",
       "<tr><td>Model                                           </td><td>POS Accuracy</td><td>Chunking Accuracy</td></tr>\n",
       "<tr><td>POS Only Model                                  </td><td>86.56%      </td><td>N/A              </td></tr>\n",
       "<tr><td>Chunking Only Model                             </td><td>N/A         </td><td>86.88%           </td></tr>\n",
       "<tr><td>MTL Joint Model                                 </td><td>84.53%      </td><td>88.20%           </td></tr>\n",
       "<tr><td>MTL Joint Model (Different RNN Layers for tasks)</td><td>87.34%      </td><td>87.11%           </td></tr>\n",
       "</tbody>\n",
       "</table>"
      ],
      "text/plain": [
       "<IPython.core.display.HTML object>"
      ]
     },
     "metadata": {},
     "output_type": "display_data"
    }
   ],
   "source": [
    "table = [[\"Model\",\"POS Accuracy\",\"Chunking Accuracy\"],\n",
    "         [\"POS Only Model\",\"86.56%\",\"N/A\"],\n",
    "         [\"Chunking Only Model\",\"N/A\",\"86.88%\"],\n",
    "         [\"MTL Joint Model\",\"84.53%\",\"88.20%\"],\n",
    "         [\"MTL Joint Model (Different RNN Layers for tasks)\",\"87.34%\",\"87.11%\"],\n",
    "        ]\n",
    "print('Bidirectional LSTMs')\n",
    "display(HTML(tabulate.tabulate(table, tablefmt='html')))"
   ]
  },
  {
   "cell_type": "code",
   "execution_count": 8,
   "metadata": {},
   "outputs": [
    {
     "name": "stdout",
     "output_type": "stream",
     "text": [
      "Bidirectional LSTMs + Embedding Dim 300\n"
     ]
    },
    {
     "data": {
      "text/html": [
       "<table>\n",
       "<tbody>\n",
       "<tr><td>Model                                           </td><td>POS Accuracy</td><td>Chunking Accuracy</td></tr>\n",
       "<tr><td>POS Only Model                                  </td><td>86.80%      </td><td>N/A              </td></tr>\n",
       "<tr><td>Chunking Only Model                             </td><td>N/A         </td><td>86.17%           </td></tr>\n",
       "<tr><td>MTL Joint Model                                 </td><td>85.39%      </td><td>87.50%           </td></tr>\n",
       "<tr><td>MTL Joint Model (Different RNN Layers for tasks)</td><td>87.81%      </td><td>88.59%           </td></tr>\n",
       "</tbody>\n",
       "</table>"
      ],
      "text/plain": [
       "<IPython.core.display.HTML object>"
      ]
     },
     "metadata": {},
     "output_type": "display_data"
    }
   ],
   "source": [
    "table = [[\"Model\",\"POS Accuracy\",\"Chunking Accuracy\"],\n",
    "         [\"POS Only Model\",\"86.80%\",\"N/A\"],\n",
    "         [\"Chunking Only Model\",\"N/A\",\"86.17%\"],\n",
    "         [\"MTL Joint Model\",\"85.39%\",\"87.50%\"],\n",
    "         [\"MTL Joint Model (Different RNN Layers for tasks)\",\"87.81%\",\"88.59%\"],\n",
    "        ]\n",
    "print('Bidirectional LSTMs + Embedding Dim 300')\n",
    "display(HTML(tabulate.tabulate(table, tablefmt='html')))"
   ]
  },
  {
   "cell_type": "code",
   "execution_count": 9,
   "metadata": {},
   "outputs": [
    {
     "name": "stdout",
     "output_type": "stream",
     "text": [
      "GloVe Embeddings\n"
     ]
    },
    {
     "data": {
      "text/html": [
       "<table>\n",
       "<tbody>\n",
       "<tr><td>Model                                           </td><td>POS Accuracy</td><td>Chunking Accuracy</td></tr>\n",
       "<tr><td>POS Only Model                                  </td><td>90.55%      </td><td>N/A              </td></tr>\n",
       "<tr><td>Chunking Only Model                             </td><td>N/A         </td><td>88.05%           </td></tr>\n",
       "<tr><td>MTL Joint Model                                 </td><td>89.84%      </td><td>88.12%           </td></tr>\n",
       "<tr><td>MTL Joint Model (Different RNN Layers for tasks)</td><td>90.86%      </td><td>87.73%           </td></tr>\n",
       "</tbody>\n",
       "</table>"
      ],
      "text/plain": [
       "<IPython.core.display.HTML object>"
      ]
     },
     "metadata": {},
     "output_type": "display_data"
    }
   ],
   "source": [
    "table = [[\"Model\",\"POS Accuracy\",\"Chunking Accuracy\"],\n",
    "         [\"POS Only Model\",\"90.55%\",\"N/A\"],\n",
    "         [\"Chunking Only Model\",\"N/A\",\"88.05%\"],\n",
    "         [\"MTL Joint Model\",\"89.84%\",\"88.12%\"],\n",
    "         [\"MTL Joint Model (Different RNN Layers for tasks)\",\"90.86%\",\"87.73%\"],\n",
    "        ]\n",
    "print('GloVe Embeddings')\n",
    "display(HTML(tabulate.tabulate(table, tablefmt='html')))"
   ]
  },
  {
   "cell_type": "code",
   "execution_count": 10,
   "metadata": {},
   "outputs": [
    {
     "name": "stdout",
     "output_type": "stream",
     "text": [
      "Bidirectional LSTMs + GloVe Embeddings\n"
     ]
    },
    {
     "data": {
      "text/html": [
       "<table>\n",
       "<tbody>\n",
       "<tr><td>Model                                           </td><td>POS Accuracy</td><td>Chunking Accuracy</td></tr>\n",
       "<tr><td>POS Only Model                                  </td><td>92.42%      </td><td>N/A              </td></tr>\n",
       "<tr><td>Chunking Only Model                             </td><td>N/A         </td><td>89.69%           </td></tr>\n",
       "<tr><td>MTL Joint Model                                 </td><td>91.72%      </td><td>89.53%           </td></tr>\n",
       "<tr><td>MTL Joint Model (Different RNN Layers for tasks)</td><td>92.34%      </td><td>89.61%           </td></tr>\n",
       "</tbody>\n",
       "</table>"
      ],
      "text/plain": [
       "<IPython.core.display.HTML object>"
      ]
     },
     "metadata": {},
     "output_type": "display_data"
    }
   ],
   "source": [
    "table = [[\"Model\",\"POS Accuracy\",\"Chunking Accuracy\"],\n",
    "         [\"POS Only Model\",\"92.42%\",\"N/A\"],\n",
    "         [\"Chunking Only Model\",\"N/A\",\"89.69%\"],\n",
    "         [\"MTL Joint Model\",\"91.72%\",\"89.53%\"],\n",
    "         [\"MTL Joint Model (Different RNN Layers for tasks)\",\"92.34%\",\"89.61%\"],\n",
    "        ]\n",
    "print('Bidirectional LSTMs + GloVe Embeddings')\n",
    "display(HTML(tabulate.tabulate(table, tablefmt='html')))"
   ]
  },
  {
   "cell_type": "code",
   "execution_count": 11,
   "metadata": {},
   "outputs": [
    {
     "name": "stdout",
     "output_type": "stream",
     "text": [
      "Bidirectional LSTMs + GloVe Embeddings + NER instead of chunking\n"
     ]
    },
    {
     "data": {
      "text/html": [
       "<table>\n",
       "<tbody>\n",
       "<tr><td>Model                                           </td><td>POS Accuracy</td><td>NER Accuracy</td></tr>\n",
       "<tr><td>POS Only Model                                  </td><td>92.42%      </td><td>N/A         </td></tr>\n",
       "<tr><td>NER Only Model                                  </td><td>N/A         </td><td>95.08%      </td></tr>\n",
       "<tr><td>MTL Joint Model                                 </td><td>92.89%      </td><td>95.70%      </td></tr>\n",
       "<tr><td>MTL Joint Model (Different RNN Layers for tasks)</td><td>92.19%      </td><td>95.00%      </td></tr>\n",
       "</tbody>\n",
       "</table>"
      ],
      "text/plain": [
       "<IPython.core.display.HTML object>"
      ]
     },
     "metadata": {},
     "output_type": "display_data"
    }
   ],
   "source": [
    "table = [[\"Model\",\"POS Accuracy\",\"NER Accuracy\"],\n",
    "         [\"POS Only Model\",\"92.42%\",\"N/A\"],\n",
    "         [\"NER Only Model\",\"N/A\",\"95.08%\"],\n",
    "         [\"MTL Joint Model\",\"92.89%\",\"95.70%\"],\n",
    "         [\"MTL Joint Model (Different RNN Layers for tasks)\",\"92.19%\",\"95.00%\"],\n",
    "        ]\n",
    "print('Bidirectional LSTMs + GloVe Embeddings + NER instead of chunking')\n",
    "display(HTML(tabulate.tabulate(table, tablefmt='html')))"
   ]
  },
  {
   "cell_type": "code",
   "execution_count": 12,
   "metadata": {},
   "outputs": [
    {
     "name": "stdout",
     "output_type": "stream",
     "text": [
      "Bidirectional LSTMs + GloVe Embeddings +  POS/NER/Chunking\n"
     ]
    },
    {
     "data": {
      "text/html": [
       "<table>\n",
       "<tbody>\n",
       "<tr><td>Model                                           </td><td>POS Accuracy</td><td>Chunk Accuracy</td><td>NER Accuracy</td></tr>\n",
       "<tr><td>POS Only Model                                  </td><td>92.66%      </td><td>N/A           </td><td>N/A         </td></tr>\n",
       "<tr><td>Chunk Only Model                                </td><td>N/A         </td><td>88.52%        </td><td>N/A         </td></tr>\n",
       "<tr><td>NER Only Model                                  </td><td>N/A         </td><td>N/A           </td><td>95.78%      </td></tr>\n",
       "<tr><td>MTL Joint Model                                 </td><td>92.89%      </td><td>89.53%        </td><td>94.92%      </td></tr>\n",
       "<tr><td>MTL Joint Model (Different RNN Layers for tasks)</td><td>91.95%      </td><td>90.00%        </td><td>95.31%      </td></tr>\n",
       "</tbody>\n",
       "</table>"
      ],
      "text/plain": [
       "<IPython.core.display.HTML object>"
      ]
     },
     "metadata": {},
     "output_type": "display_data"
    }
   ],
   "source": [
    "table = [[\"Model\",\"POS Accuracy\",\"Chunk Accuracy\", \"NER Accuracy\"],\n",
    "         [\"POS Only Model\",\"92.66%\",\"N/A\", \"N/A\"],\n",
    "         [\"Chunk Only Model\",\"N/A\",\"88.52%\", \"N/A\"],\n",
    "         [\"NER Only Model\",\"N/A\",\"N/A\", \"95.78%\"],\n",
    "         [\"MTL Joint Model\",\"92.89%\",\"89.53%\",\"94.92%\"],\n",
    "         [\"MTL Joint Model (Different RNN Layers for tasks)\",\"91.95%\",\"90.00%\", \"95.31%\"],\n",
    "        ]\n",
    "print('Bidirectional LSTMs + GloVe Embeddings +  POS/NER/Chunking')\n",
    "display(HTML(tabulate.tabulate(table, tablefmt='html')))"
   ]
  }
 ],
 "metadata": {
  "kernelspec": {
   "display_name": "Python 3",
   "language": "python",
   "name": "python3"
  },
  "language_info": {
   "codemirror_mode": {
    "name": "ipython",
    "version": 3
   },
   "file_extension": ".py",
   "mimetype": "text/x-python",
   "name": "python",
   "nbconvert_exporter": "python",
   "pygments_lexer": "ipython3",
   "version": "3.6.7"
  }
 },
 "nbformat": 4,
 "nbformat_minor": 2
}
